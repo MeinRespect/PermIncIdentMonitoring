{
  "cells": [
    {
      "cell_type": "code",
      "execution_count": 1,
      "metadata": {
        "id": "HHLg_cri_qyh"
      },
      "outputs": [],
      "source": [
        "import pandas as pd"
      ]
    },
    {
      "cell_type": "code",
      "execution_count": 76,
      "metadata": {
        "colab": {
          "base_uri": "https://localhost:8080/"
        },
        "id": "hl9TD_jXANY2",
        "outputId": "7bab327e-9c89-4642-dc01-ca54d63b6640"
      },
      "outputs": [],
      "source": [
        "import warnings\n",
        "\n",
        "# Suppress SettingWithCopyWarning and PerformanceWarning\n",
        "warnings.simplefilter(action='ignore', category=pd.errors.PerformanceWarning)\n",
        "warnings.simplefilter(action='ignore', category=pd.errors.SettingWithCopyWarning)\n",
        "\n",
        "\n",
        "df_weather = pd.read_csv(\"Данные по метеостанциям.csv\")\n",
        "\n",
        "df_weather['Местное время'] = pd.to_datetime(df_weather['Местное время'], format='%d.%m.%Y %H:%M')\n",
        "\n",
        "df_weather['meteostation'] = df_weather['meteostation'].str.replace(\" \", \"\")\n",
        "df_weather['meteostation'] = df_weather['meteostation'].str.replace(\"БольшаяСоснова\", \"Большая Соснова\")\n",
        "\n",
        "df_weather.rename(columns={\"E'\": 'E_second'}, inplace=True)\n",
        "\n",
        "columns = ['T', 'Po', 'P', 'Pa', 'U', 'DD', 'Ff', 'ff10', 'ff3',\n",
        "       'N', 'WW', 'W1', 'W2', 'Tn', 'Tx', 'Cl', 'Nh', 'H', 'Cm', 'Ch', 'VV',\n",
        "       'Td', 'RRR', 'tR', 'E', 'Tg', 'E_second']\n",
        "\n",
        "df_weather_morning = df_weather[df_weather[\"Местное время\"].dt.hour==8] # Восемь часов утра\n",
        "df_weather_aftrenoon = df_weather[df_weather[\"Местное время\"].dt.hour==20]\n",
        "\n",
        "df_weather_morning_perm = df_weather_morning.loc[df_weather_morning[\"meteostation\"] == \"Пермь\"]\n",
        "df_weather_aftrenoon_perm = df_weather_aftrenoon.loc[df_weather_aftrenoon[\"meteostation\"] == \"Пермь\"]\n",
        "df_weather_morning_perm.sort_values(by='Местное время', inplace=True)\n",
        "df_weather_aftrenoon_perm.sort_values(by='Местное время', inplace=True)\n",
        "\n",
        "for i in [10]:\n",
        "  for column in columns:\n",
        "      df_weather_morning_perm.loc[:, f'{column}_morning_perm_plus_{i}_day'] = df_weather_morning_perm[column].shift(-i)\n",
        "      df_weather_aftrenoon_perm.loc[:, f'{column}_afternoon_perm_plus_{i}_day'] = df_weather_aftrenoon_perm[column].shift(-i)\n",
        "\n",
        "# for i in range(1, 6):\n",
        "#   for column in columns:\n",
        "#       df_weather_morning.loc[:, f'{column}_morning_minus_{i}_day'] = df_weather_morning[column].shift(i)\n",
        "#       df_weather_aftrenoon.loc[:, f'{column}_afternoon_minus_{i}_day'] = df_weather_aftrenoon[column].shift(-i)\n",
        "\n",
        "# for i in range(1, 3):\n",
        "#   for column in columns:\n",
        "#       df_weather_morning.loc[:, f'{column}_morning_minus_{i}_year'] = df_weather_morning[column].shift(i*365)\n",
        "#       df_weather_aftrenoon.loc[:, f'{column}_afternoon_minus_{i}_year'] = df_weather_aftrenoon[column].shift(i*365)"
      ]
    },
    {
      "cell_type": "code",
      "execution_count": 77,
      "metadata": {
        "id": "jC9YVt-eqg5l"
      },
      "outputs": [],
      "source": [
        "df_weather_morning_cherd = df_weather_morning.loc[df_weather_morning[\"meteostation\"] == \"Чердынь\"]\n",
        "df_weather_aftrenoon_cherd = df_weather_aftrenoon.loc[df_weather_aftrenoon[\"meteostation\"] == \"Чердынь\"]\n",
        "df_weather_morning_cherd.sort_values(by='Местное время', inplace=True)\n",
        "df_weather_aftrenoon_cherd.sort_values(by='Местное время', inplace=True)\n",
        "\n",
        "for i in [10]:\n",
        "  for column in columns:\n",
        "      df_weather_morning_cherd.loc[:, f'{column}_morning_perm_plus_{i}_day'] = df_weather_morning_cherd[column].shift(-i)\n",
        "      df_weather_aftrenoon_cherd.loc[:, f'{column}_afternoon_perm_plus_{i}_day'] = df_weather_aftrenoon_cherd[column].shift(-i)"
      ]
    },
    {
      "cell_type": "code",
      "execution_count": 78,
      "metadata": {
        "id": "vS7hvxMsq_SW"
      },
      "outputs": [],
      "source": [
        "df_weather_morning_cher = df_weather_morning.loc[df_weather_morning[\"meteostation\"] == \"Чернушка\"]\n",
        "df_weather_aftrenoon_cher = df_weather_aftrenoon.loc[df_weather_aftrenoon[\"meteostation\"] == \"Чернушка\"]\n",
        "df_weather_morning_cher.sort_values(by='Местное время', inplace=True)\n",
        "df_weather_aftrenoon_cher.sort_values(by='Местное время', inplace=True)\n",
        "\n",
        "for i in [10]:\n",
        "  for column in columns:\n",
        "      df_weather_morning_cher.loc[:, f'{column}_morning_perm_plus_{i}_day'] = df_weather_morning_cher[column].shift(-i)\n",
        "      df_weather_aftrenoon_cher.loc[:, f'{column}_afternoon_perm_plus_{i}_day'] = df_weather_aftrenoon_cher[column].shift(-i)"
      ]
    },
    {
      "cell_type": "code",
      "execution_count": 79,
      "metadata": {
        "id": "jUCIdTGUAbRn"
      },
      "outputs": [],
      "source": [
        "df_weather_aftrenoon_perm[\"Местное время\"] = df_weather_aftrenoon_perm[\"Местное время\"].dt.date\n",
        "df_weather_morning_perm[\"Местное время\"] = df_weather_morning_perm[\"Местное время\"].dt.date\n",
        "\n",
        "df_weather_aftrenoon_cher[\"Местное время\"] = df_weather_aftrenoon_cher[\"Местное время\"].dt.date\n",
        "df_weather_morning_cher[\"Местное время\"] = df_weather_morning_cher[\"Местное время\"].dt.date\n",
        "\n",
        "df_weather_aftrenoon_cherd[\"Местное время\"] = df_weather_aftrenoon_cherd[\"Местное время\"].dt.date\n",
        "df_weather_morning_cherd[\"Местное время\"] = df_weather_morning_cherd[\"Местное время\"].dt.date"
      ]
    },
    {
      "cell_type": "code",
      "execution_count": 80,
      "metadata": {
        "colab": {
          "base_uri": "https://localhost:8080/",
          "height": 384
        },
        "id": "Oz1AqqpGA3BF",
        "outputId": "860312aa-cbf2-4072-8a28-caa625d1c895"
      },
      "outputs": [
        {
          "data": {
            "text/html": [
              "<div>\n",
              "<style scoped>\n",
              "    .dataframe tbody tr th:only-of-type {\n",
              "        vertical-align: middle;\n",
              "    }\n",
              "\n",
              "    .dataframe tbody tr th {\n",
              "        vertical-align: top;\n",
              "    }\n",
              "\n",
              "    .dataframe thead th {\n",
              "        text-align: right;\n",
              "    }\n",
              "</style>\n",
              "<table border=\"1\" class=\"dataframe\">\n",
              "  <thead>\n",
              "    <tr style=\"text-align: right;\">\n",
              "      <th></th>\n",
              "      <th>Дата, время начала</th>\n",
              "      <th>НЯ, ОЯ, КНЯ</th>\n",
              "      <th>Тип явления</th>\n",
              "      <th>Критерий</th>\n",
              "      <th>чрезвычайная пожарная опасность</th>\n",
              "      <th>заморозки</th>\n",
              "      <th>сильный ветер</th>\n",
              "      <th>сильный дождь</th>\n",
              "      <th>сильное гололедно-изморозевое отложение на проводах</th>\n",
              "      <th>аномально жаркая погода</th>\n",
              "      <th>...</th>\n",
              "      <th>сильный снег</th>\n",
              "      <th>половодье</th>\n",
              "      <th>паводок</th>\n",
              "      <th>шквал</th>\n",
              "      <th>аномально холодная погода</th>\n",
              "      <th>сильный мороз</th>\n",
              "      <th>град</th>\n",
              "      <th>ливень</th>\n",
              "      <th>сильный ливень</th>\n",
              "      <th>туман</th>\n",
              "    </tr>\n",
              "  </thead>\n",
              "  <tbody>\n",
              "    <tr>\n",
              "      <th>914</th>\n",
              "      <td>2020-06-16</td>\n",
              "      <td>NaN</td>\n",
              "      <td>NaN</td>\n",
              "      <td>NaN</td>\n",
              "      <td>1</td>\n",
              "      <td>1</td>\n",
              "      <td>1</td>\n",
              "      <td>1</td>\n",
              "      <td>0</td>\n",
              "      <td>1</td>\n",
              "      <td>...</td>\n",
              "      <td>0</td>\n",
              "      <td>0</td>\n",
              "      <td>0</td>\n",
              "      <td>0</td>\n",
              "      <td>0</td>\n",
              "      <td>0</td>\n",
              "      <td>0</td>\n",
              "      <td>0</td>\n",
              "      <td>0</td>\n",
              "      <td>0</td>\n",
              "    </tr>\n",
              "    <tr>\n",
              "      <th>1754</th>\n",
              "      <td>2018-02-23</td>\n",
              "      <td>NaN</td>\n",
              "      <td>NaN</td>\n",
              "      <td>NaN</td>\n",
              "      <td>0</td>\n",
              "      <td>0</td>\n",
              "      <td>0</td>\n",
              "      <td>0</td>\n",
              "      <td>0</td>\n",
              "      <td>0</td>\n",
              "      <td>...</td>\n",
              "      <td>0</td>\n",
              "      <td>0</td>\n",
              "      <td>0</td>\n",
              "      <td>0</td>\n",
              "      <td>1</td>\n",
              "      <td>0</td>\n",
              "      <td>0</td>\n",
              "      <td>0</td>\n",
              "      <td>0</td>\n",
              "      <td>0</td>\n",
              "    </tr>\n",
              "    <tr>\n",
              "      <th>3657</th>\n",
              "      <td>2015-01-07</td>\n",
              "      <td>ОЯ</td>\n",
              "      <td>Метеорологическое</td>\n",
              "      <td>Сильный мороз</td>\n",
              "      <td>0</td>\n",
              "      <td>0</td>\n",
              "      <td>1</td>\n",
              "      <td>0</td>\n",
              "      <td>0</td>\n",
              "      <td>0</td>\n",
              "      <td>...</td>\n",
              "      <td>1</td>\n",
              "      <td>0</td>\n",
              "      <td>0</td>\n",
              "      <td>0</td>\n",
              "      <td>0</td>\n",
              "      <td>1</td>\n",
              "      <td>0</td>\n",
              "      <td>0</td>\n",
              "      <td>0</td>\n",
              "      <td>0</td>\n",
              "    </tr>\n",
              "  </tbody>\n",
              "</table>\n",
              "<p>3 rows × 23 columns</p>\n",
              "</div>"
            ],
            "text/plain": [
              "     Дата, время начала НЯ, ОЯ, КНЯ        Тип явления        Критерий  \\\n",
              "914          2020-06-16         NaN                NaN             NaN   \n",
              "1754         2018-02-23         NaN                NaN             NaN   \n",
              "3657         2015-01-07          ОЯ  Метеорологическое   Сильный мороз   \n",
              "\n",
              "      чрезвычайная пожарная опасность  заморозки  сильный ветер  \\\n",
              "914                                 1          1              1   \n",
              "1754                                0          0              0   \n",
              "3657                                0          0              1   \n",
              "\n",
              "      сильный дождь  сильное гололедно-изморозевое отложение на проводах  \\\n",
              "914               1                                                  0     \n",
              "1754              0                                                  0     \n",
              "3657              0                                                  0     \n",
              "\n",
              "      аномально жаркая погода  ...  сильный снег  половодье  паводок  шквал  \\\n",
              "914                         1  ...             0          0        0      0   \n",
              "1754                        0  ...             0          0        0      0   \n",
              "3657                        0  ...             1          0        0      0   \n",
              "\n",
              "      аномально холодная погода  сильный мороз  град  ливень  сильный ливень  \\\n",
              "914                           0              0     0       0               0   \n",
              "1754                          1              0     0       0               0   \n",
              "3657                          0              1     0       0               0   \n",
              "\n",
              "      туман  \n",
              "914       0  \n",
              "1754      0  \n",
              "3657      0  \n",
              "\n",
              "[3 rows x 23 columns]"
            ]
          },
          "execution_count": 80,
          "metadata": {},
          "output_type": "execute_result"
        }
      ],
      "source": [
        "df_disaster = pd.read_csv(\"ОЯ и НЯ 7 дней назад и 3 вперед.csv\", index_col=\"Unnamed: 0\")\n",
        "df_disaster.sample(3)"
      ]
    },
    {
      "cell_type": "code",
      "execution_count": 81,
      "metadata": {
        "id": "6pgV-3ORBRLU"
      },
      "outputs": [],
      "source": [
        "df_weather_morning_cher.rename(columns={\"Местное время\": \"Time\"}, inplace=True)\n",
        "df_weather_aftrenoon_cher.rename(columns={\"Местное время\": \"Time\"}, inplace=True)\n",
        "\n",
        "df_weather_morning_cherd.rename(columns={\"Местное время\": \"Time\"}, inplace=True)\n",
        "df_weather_aftrenoon_cherd.rename(columns={\"Местное время\": \"Time\"}, inplace=True)\n",
        "\n",
        "df_weather_morning_perm.rename(columns={\"Местное время\": \"Time\"}, inplace=True)\n",
        "df_weather_aftrenoon_perm.rename(columns={\"Местное время\": \"Time\"}, inplace=True)\n",
        "\n",
        "df_disaster.rename(columns={\"Дата, время начала\": \"Time\"}, inplace=True)\n",
        "df_disaster.drop(columns=[\"НЯ, ОЯ, КНЯ\", \"Тип явления\",\t\"Критерий\"], inplace=True)"
      ]
    },
    {
      "cell_type": "code",
      "execution_count": 82,
      "metadata": {
        "id": "LylZ9LmvDaFL"
      },
      "outputs": [],
      "source": [
        "markup = pd.read_csv(\"data4_rayons_filled.csv\").drop(columns=[\"Тип\"])"
      ]
    },
    {
      "cell_type": "code",
      "execution_count": 83,
      "metadata": {
        "id": "3PTyHQBB6ZPm"
      },
      "outputs": [],
      "source": [
        "name_to_int = {name: i for i, name in enumerate(markup[\"Базовый тип для прогноза\"].unique())}"
      ]
    },
    {
      "cell_type": "code",
      "execution_count": 84,
      "metadata": {
        "colab": {
          "base_uri": "https://localhost:8080/"
        },
        "id": "VPFi0E_q5lSO",
        "outputId": "9f8c8932-30dd-4fb2-8930-d27da90b3b81"
      },
      "outputs": [
        {
          "data": {
            "text/plain": [
              "{'0': 0,\n",
              " 'Взрывы/пожары/разрушения': 1,\n",
              " 'Прочие опасности': 2,\n",
              " 'Аварии на транспорте': 3,\n",
              " 'ЖКХ': 4,\n",
              " 'Аварии с выбросом опасных/токсичных веществ': 5,\n",
              " 'Опасные природные явления': 6}"
            ]
          },
          "execution_count": 84,
          "metadata": {},
          "output_type": "execute_result"
        }
      ],
      "source": [
        "name_to_int"
      ]
    },
    {
      "cell_type": "code",
      "execution_count": 85,
      "metadata": {
        "id": "GkEF7ljL6lLO"
      },
      "outputs": [],
      "source": [
        "markup[\"Базовый тип для прогноза\"] = markup[\"Базовый тип для прогноза\"].replace(name_to_int)"
      ]
    },
    {
      "cell_type": "code",
      "execution_count": 86,
      "metadata": {
        "id": "3WsDpbMqFxok"
      },
      "outputs": [],
      "source": [
        "markup.rename(columns={\"report_dt\":\"Time\"}, inplace=True)"
      ]
    },
    {
      "cell_type": "code",
      "execution_count": 87,
      "metadata": {
        "id": "mkDY6AupD0AS"
      },
      "outputs": [],
      "source": [
        "markup['Time'] = pd.to_datetime(markup['Time'], format='%Y.%m.%d')"
      ]
    },
    {
      "cell_type": "code",
      "execution_count": 88,
      "metadata": {
        "id": "WPh7t3bLID3Q"
      },
      "outputs": [],
      "source": [
        "df_weather_aftrenoon_cher['Time'] = pd.to_datetime(df_weather_aftrenoon_cher['Time'], format='%Y.%m.%d')\n",
        "df_weather_morning_cher['Time'] = pd.to_datetime(df_weather_morning_cher['Time'], format='%Y.%m.%d')\n",
        "\n",
        "df_weather_aftrenoon_cherd['Time'] = pd.to_datetime(df_weather_aftrenoon_cherd['Time'], format='%Y.%m.%d')\n",
        "df_weather_morning_cherd['Time'] = pd.to_datetime(df_weather_morning_cherd['Time'], format='%Y.%m.%d')\n",
        "\n",
        "df_weather_aftrenoon_perm['Time'] = pd.to_datetime(df_weather_aftrenoon_perm['Time'], format='%Y.%m.%d')\n",
        "df_weather_morning_perm['Time'] = pd.to_datetime(df_weather_morning_perm['Time'], format='%Y.%m.%d')"
      ]
    },
    {
      "cell_type": "code",
      "execution_count": 89,
      "metadata": {
        "colab": {
          "base_uri": "https://localhost:8080/"
        },
        "id": "icK5Vuv1Hr-5",
        "outputId": "669df883-891b-4373-a907-5f9ce7e8d012"
      },
      "outputs": [
        {
          "data": {
            "text/plain": [
              "55288"
            ]
          },
          "execution_count": 89,
          "metadata": {},
          "output_type": "execute_result"
        }
      ],
      "source": [
        "markup_df = pd.merge(markup, df_weather_morning_cherd, on='Time', how='inner', suffixes=('', '_mr_cherd'))\n",
        "markup_df = pd.merge(markup_df, df_weather_morning_cher, on='Time', how='inner', suffixes=('', '_mr_cher'))\n",
        "markup_df = pd.merge(markup_df, df_weather_morning_perm, on='Time', how='inner', suffixes=('', '_mr_perm'))\n",
        "len(markup_df)"
      ]
    },
    {
      "cell_type": "code",
      "execution_count": 90,
      "metadata": {
        "colab": {
          "base_uri": "https://localhost:8080/"
        },
        "id": "fMszuGhJISw1",
        "outputId": "96379482-9ae5-4b6a-ff55-0b6ff2307815"
      },
      "outputs": [
        {
          "data": {
            "text/plain": [
              "55155"
            ]
          },
          "execution_count": 90,
          "metadata": {},
          "output_type": "execute_result"
        }
      ],
      "source": [
        "markup_df = pd.merge(markup_df, df_weather_aftrenoon_cher, on='Time', how='inner', suffixes=('', '_af_cher'))\n",
        "markup_df = pd.merge(markup_df, df_weather_aftrenoon_cherd, on='Time', how='inner', suffixes=('', '_af_cherd'))\n",
        "markup_df = pd.merge(markup_df, df_weather_aftrenoon_perm, on='Time', how='inner', suffixes=('', '_af_perm'))\n",
        "len(markup_df)"
      ]
    },
    {
      "cell_type": "code",
      "execution_count": 91,
      "metadata": {
        "colab": {
          "base_uri": "https://localhost:8080/"
        },
        "id": "drcn6Ak4Inhx",
        "outputId": "6c4f826e-a947-4036-abf0-081555f40f11"
      },
      "outputs": [
        {
          "data": {
            "text/plain": [
              "55155"
            ]
          },
          "execution_count": 91,
          "metadata": {},
          "output_type": "execute_result"
        }
      ],
      "source": [
        "df_disaster[\"Time\"] = pd.to_datetime(df_disaster[\"Time\"], format='%Y.%m.%d')\n",
        "len(markup_df)"
      ]
    },
    {
      "cell_type": "code",
      "execution_count": 93,
      "metadata": {},
      "outputs": [],
      "source": [
        "df_pipe = pd.read_csv(\"Износ сетей по МО ПК.csv\")"
      ]
    },
    {
      "cell_type": "code",
      "execution_count": 97,
      "metadata": {},
      "outputs": [],
      "source": [
        "df_pipe.rename(columns={\"Наименование муниципального образования\":\"Район_new\"}, inplace=True)"
      ]
    },
    {
      "cell_type": "code",
      "execution_count": 98,
      "metadata": {
        "id": "WCvnnLPnJV9B"
      },
      "outputs": [],
      "source": [
        "df_disaster = df_disaster.drop_duplicates(subset=['Time'])"
      ]
    },
    {
      "cell_type": "code",
      "execution_count": 99,
      "metadata": {
        "colab": {
          "base_uri": "https://localhost:8080/"
        },
        "id": "rGPfjxnCGf0i",
        "outputId": "6503819b-238c-49a6-cd80-5da8544d9897"
      },
      "outputs": [
        {
          "data": {
            "text/plain": [
              "55155"
            ]
          },
          "execution_count": 99,
          "metadata": {},
          "output_type": "execute_result"
        }
      ],
      "source": [
        "markup_df = pd.merge(markup_df, df_disaster, on='Time', how='inner')\n",
        "len(markup_df)"
      ]
    },
    {
      "cell_type": "code",
      "execution_count": 100,
      "metadata": {},
      "outputs": [],
      "source": [
        "markup_df = markup_df.merge(df_pipe, on='Район_new', how='left')\n"
      ]
    },
    {
      "cell_type": "code",
      "execution_count": 101,
      "metadata": {
        "colab": {
          "base_uri": "https://localhost:8080/"
        },
        "id": "rjC1oA9Q1yk3",
        "outputId": "4f145ee5-975a-4fd7-cf82-474534f5c850"
      },
      "outputs": [
        {
          "name": "stdout",
          "output_type": "stream",
          "text": [
            "372\n"
          ]
        }
      ],
      "source": [
        "print(len(markup_df.columns))"
      ]
    },
    {
      "cell_type": "code",
      "execution_count": 102,
      "metadata": {
        "id": "teNBbGH37zaK"
      },
      "outputs": [],
      "source": [
        "markup_df = markup_df.rename(columns={\"Базовый тип для прогноза\": \"target\"})"
      ]
    },
    {
      "cell_type": "code",
      "execution_count": 103,
      "metadata": {
        "id": "7IGWAoeNMa4b"
      },
      "outputs": [],
      "source": [
        "markup_df = markup_df.dropna(axis=1, how='all')"
      ]
    },
    {
      "cell_type": "code",
      "execution_count": 104,
      "metadata": {
        "colab": {
          "base_uri": "https://localhost:8080/"
        },
        "id": "-yn1h1QMNG65",
        "outputId": "4b82838e-774f-44a2-97df-4ab2ef5f9fcd"
      },
      "outputs": [
        {
          "name": "stdout",
          "output_type": "stream",
          "text": [
            "Index([], dtype='object')\n"
          ]
        }
      ],
      "source": [
        "duplicates = markup_df.columns[markup_df.columns.duplicated(keep='first')]\n",
        "print(duplicates)\n",
        "markup_df = markup_df.drop(columns=duplicates)"
      ]
    },
    {
      "cell_type": "code",
      "execution_count": 105,
      "metadata": {
        "id": "LuaJnllD66Bl"
      },
      "outputs": [],
      "source": [
        "test_data = markup_df[markup_df['Time'].dt.year == 2022].drop(columns=[\"horizon_dt\"])\n",
        "\n",
        "train_data = markup_df[markup_df['Time'].dt.year < 2022].drop(columns=[\"horizon_dt\"])\n",
        "\n",
        "test_data.drop(columns=\"Time\", inplace=True)\n",
        "train_data.drop(columns=\"Time\", inplace=True)"
      ]
    },
    {
      "cell_type": "code",
      "execution_count": 106,
      "metadata": {
        "colab": {
          "base_uri": "https://localhost:8080/"
        },
        "id": "46-PkRIDQE9W",
        "outputId": "e186119d-705c-471a-ebe6-6a6411f512f1"
      },
      "outputs": [
        {
          "data": {
            "text/plain": [
              "((51273, 349), (3882, 349))"
            ]
          },
          "execution_count": 106,
          "metadata": {},
          "output_type": "execute_result"
        }
      ],
      "source": [
        "train_data.shape, test_data.shape"
      ]
    },
    {
      "cell_type": "code",
      "execution_count": 107,
      "metadata": {
        "colab": {
          "base_uri": "https://localhost:8080/",
          "height": 771
        },
        "id": "PPywsrWtJ3XE",
        "outputId": "399bccf7-94a8-4fdd-f1ef-f2380cd42270"
      },
      "outputs": [
        {
          "data": {
            "text/html": [
              "<style type=\"text/css\">\n",
              "#T_ebba7_row10_col1 {\n",
              "  background-color: lightgreen;\n",
              "}\n",
              "</style>\n",
              "<table id=\"T_ebba7\">\n",
              "  <thead>\n",
              "    <tr>\n",
              "      <th class=\"blank level0\" >&nbsp;</th>\n",
              "      <th id=\"T_ebba7_level0_col0\" class=\"col_heading level0 col0\" >Description</th>\n",
              "      <th id=\"T_ebba7_level0_col1\" class=\"col_heading level0 col1\" >Value</th>\n",
              "    </tr>\n",
              "  </thead>\n",
              "  <tbody>\n",
              "    <tr>\n",
              "      <th id=\"T_ebba7_level0_row0\" class=\"row_heading level0 row0\" >0</th>\n",
              "      <td id=\"T_ebba7_row0_col0\" class=\"data row0 col0\" >Session id</td>\n",
              "      <td id=\"T_ebba7_row0_col1\" class=\"data row0 col1\" >2870</td>\n",
              "    </tr>\n",
              "    <tr>\n",
              "      <th id=\"T_ebba7_level0_row1\" class=\"row_heading level0 row1\" >1</th>\n",
              "      <td id=\"T_ebba7_row1_col0\" class=\"data row1 col0\" >Target</td>\n",
              "      <td id=\"T_ebba7_row1_col1\" class=\"data row1 col1\" >target</td>\n",
              "    </tr>\n",
              "    <tr>\n",
              "      <th id=\"T_ebba7_level0_row2\" class=\"row_heading level0 row2\" >2</th>\n",
              "      <td id=\"T_ebba7_row2_col0\" class=\"data row2 col0\" >Target type</td>\n",
              "      <td id=\"T_ebba7_row2_col1\" class=\"data row2 col1\" >Multiclass</td>\n",
              "    </tr>\n",
              "    <tr>\n",
              "      <th id=\"T_ebba7_level0_row3\" class=\"row_heading level0 row3\" >3</th>\n",
              "      <td id=\"T_ebba7_row3_col0\" class=\"data row3 col0\" >Original data shape</td>\n",
              "      <td id=\"T_ebba7_row3_col1\" class=\"data row3 col1\" >(51273, 349)</td>\n",
              "    </tr>\n",
              "    <tr>\n",
              "      <th id=\"T_ebba7_level0_row4\" class=\"row_heading level0 row4\" >4</th>\n",
              "      <td id=\"T_ebba7_row4_col0\" class=\"data row4 col0\" >Transformed data shape</td>\n",
              "      <td id=\"T_ebba7_row4_col1\" class=\"data row4 col1\" >(51273, 1479)</td>\n",
              "    </tr>\n",
              "    <tr>\n",
              "      <th id=\"T_ebba7_level0_row5\" class=\"row_heading level0 row5\" >5</th>\n",
              "      <td id=\"T_ebba7_row5_col0\" class=\"data row5 col0\" >Transformed train set shape</td>\n",
              "      <td id=\"T_ebba7_row5_col1\" class=\"data row5 col1\" >(35891, 1479)</td>\n",
              "    </tr>\n",
              "    <tr>\n",
              "      <th id=\"T_ebba7_level0_row6\" class=\"row_heading level0 row6\" >6</th>\n",
              "      <td id=\"T_ebba7_row6_col0\" class=\"data row6 col0\" >Transformed test set shape</td>\n",
              "      <td id=\"T_ebba7_row6_col1\" class=\"data row6 col1\" >(15382, 1479)</td>\n",
              "    </tr>\n",
              "    <tr>\n",
              "      <th id=\"T_ebba7_level0_row7\" class=\"row_heading level0 row7\" >7</th>\n",
              "      <td id=\"T_ebba7_row7_col0\" class=\"data row7 col0\" >Numeric features</td>\n",
              "      <td id=\"T_ebba7_row7_col1\" class=\"data row7 col1\" >175</td>\n",
              "    </tr>\n",
              "    <tr>\n",
              "      <th id=\"T_ebba7_level0_row8\" class=\"row_heading level0 row8\" >8</th>\n",
              "      <td id=\"T_ebba7_row8_col0\" class=\"data row8 col0\" >Categorical features</td>\n",
              "      <td id=\"T_ebba7_row8_col1\" class=\"data row8 col1\" >173</td>\n",
              "    </tr>\n",
              "    <tr>\n",
              "      <th id=\"T_ebba7_level0_row9\" class=\"row_heading level0 row9\" >9</th>\n",
              "      <td id=\"T_ebba7_row9_col0\" class=\"data row9 col0\" >Rows with missing values</td>\n",
              "      <td id=\"T_ebba7_row9_col1\" class=\"data row9 col1\" >100.0%</td>\n",
              "    </tr>\n",
              "    <tr>\n",
              "      <th id=\"T_ebba7_level0_row10\" class=\"row_heading level0 row10\" >10</th>\n",
              "      <td id=\"T_ebba7_row10_col0\" class=\"data row10 col0\" >Preprocess</td>\n",
              "      <td id=\"T_ebba7_row10_col1\" class=\"data row10 col1\" >True</td>\n",
              "    </tr>\n",
              "    <tr>\n",
              "      <th id=\"T_ebba7_level0_row11\" class=\"row_heading level0 row11\" >11</th>\n",
              "      <td id=\"T_ebba7_row11_col0\" class=\"data row11 col0\" >Imputation type</td>\n",
              "      <td id=\"T_ebba7_row11_col1\" class=\"data row11 col1\" >simple</td>\n",
              "    </tr>\n",
              "    <tr>\n",
              "      <th id=\"T_ebba7_level0_row12\" class=\"row_heading level0 row12\" >12</th>\n",
              "      <td id=\"T_ebba7_row12_col0\" class=\"data row12 col0\" >Numeric imputation</td>\n",
              "      <td id=\"T_ebba7_row12_col1\" class=\"data row12 col1\" >mean</td>\n",
              "    </tr>\n",
              "    <tr>\n",
              "      <th id=\"T_ebba7_level0_row13\" class=\"row_heading level0 row13\" >13</th>\n",
              "      <td id=\"T_ebba7_row13_col0\" class=\"data row13 col0\" >Categorical imputation</td>\n",
              "      <td id=\"T_ebba7_row13_col1\" class=\"data row13 col1\" >mode</td>\n",
              "    </tr>\n",
              "    <tr>\n",
              "      <th id=\"T_ebba7_level0_row14\" class=\"row_heading level0 row14\" >14</th>\n",
              "      <td id=\"T_ebba7_row14_col0\" class=\"data row14 col0\" >Maximum one-hot encoding</td>\n",
              "      <td id=\"T_ebba7_row14_col1\" class=\"data row14 col1\" >25</td>\n",
              "    </tr>\n",
              "    <tr>\n",
              "      <th id=\"T_ebba7_level0_row15\" class=\"row_heading level0 row15\" >15</th>\n",
              "      <td id=\"T_ebba7_row15_col0\" class=\"data row15 col0\" >Encoding method</td>\n",
              "      <td id=\"T_ebba7_row15_col1\" class=\"data row15 col1\" >None</td>\n",
              "    </tr>\n",
              "    <tr>\n",
              "      <th id=\"T_ebba7_level0_row16\" class=\"row_heading level0 row16\" >16</th>\n",
              "      <td id=\"T_ebba7_row16_col0\" class=\"data row16 col0\" >Fold Generator</td>\n",
              "      <td id=\"T_ebba7_row16_col1\" class=\"data row16 col1\" >StratifiedKFold</td>\n",
              "    </tr>\n",
              "    <tr>\n",
              "      <th id=\"T_ebba7_level0_row17\" class=\"row_heading level0 row17\" >17</th>\n",
              "      <td id=\"T_ebba7_row17_col0\" class=\"data row17 col0\" >Fold Number</td>\n",
              "      <td id=\"T_ebba7_row17_col1\" class=\"data row17 col1\" >5</td>\n",
              "    </tr>\n",
              "    <tr>\n",
              "      <th id=\"T_ebba7_level0_row18\" class=\"row_heading level0 row18\" >18</th>\n",
              "      <td id=\"T_ebba7_row18_col0\" class=\"data row18 col0\" >CPU Jobs</td>\n",
              "      <td id=\"T_ebba7_row18_col1\" class=\"data row18 col1\" >-1</td>\n",
              "    </tr>\n",
              "    <tr>\n",
              "      <th id=\"T_ebba7_level0_row19\" class=\"row_heading level0 row19\" >19</th>\n",
              "      <td id=\"T_ebba7_row19_col0\" class=\"data row19 col0\" >Use GPU</td>\n",
              "      <td id=\"T_ebba7_row19_col1\" class=\"data row19 col1\" >False</td>\n",
              "    </tr>\n",
              "    <tr>\n",
              "      <th id=\"T_ebba7_level0_row20\" class=\"row_heading level0 row20\" >20</th>\n",
              "      <td id=\"T_ebba7_row20_col0\" class=\"data row20 col0\" >Log Experiment</td>\n",
              "      <td id=\"T_ebba7_row20_col1\" class=\"data row20 col1\" >False</td>\n",
              "    </tr>\n",
              "    <tr>\n",
              "      <th id=\"T_ebba7_level0_row21\" class=\"row_heading level0 row21\" >21</th>\n",
              "      <td id=\"T_ebba7_row21_col0\" class=\"data row21 col0\" >Experiment Name</td>\n",
              "      <td id=\"T_ebba7_row21_col1\" class=\"data row21 col1\" >clf-default-name</td>\n",
              "    </tr>\n",
              "    <tr>\n",
              "      <th id=\"T_ebba7_level0_row22\" class=\"row_heading level0 row22\" >22</th>\n",
              "      <td id=\"T_ebba7_row22_col0\" class=\"data row22 col0\" >USI</td>\n",
              "      <td id=\"T_ebba7_row22_col1\" class=\"data row22 col1\" >9a3f</td>\n",
              "    </tr>\n",
              "  </tbody>\n",
              "</table>\n"
            ],
            "text/plain": [
              "<pandas.io.formats.style.Styler at 0x1675ca620>"
            ]
          },
          "metadata": {},
          "output_type": "display_data"
        }
      ],
      "source": [
        "from pycaret.classification import *\n",
        "s = setup(train_data, target=\"target\", index=False, fold=5)"
      ]
    },
    {
      "cell_type": "code",
      "execution_count": 108,
      "metadata": {
        "colab": {
          "base_uri": "https://localhost:8080/",
          "height": 133,
          "referenced_widgets": [
            "a25fbce51b7444028cef3b8d4f5e02a5",
            "b89198196f57465096e51964ce58ec6a",
            "ddc771a5f64444daab1526a3c0975a70",
            "6ea3e4cb4583456f82901fffbcbc9c2f",
            "0489378bdf0c45d8bb616309c3d7ddbc",
            "1a48a7bf4f9a4c5cb056bb295eef5185",
            "333d72e927864d5fac70cc9a9dcfa48c",
            "ead9f8dd8b6a4b6485605613ae59de47",
            "356a299931a1433db4fd5d09bda2d693",
            "1985c69bcb8b4a01afcebf77b73166a2",
            "e625904e1c9d4e5b9055c7996d8930d0"
          ]
        },
        "id": "TH3FuDcXN3Vs",
        "outputId": "88f59535-bb8c-400f-c27d-847d1a7f3dbc"
      },
      "outputs": [
        {
          "data": {
            "text/html": [],
            "text/plain": [
              "<IPython.core.display.HTML object>"
            ]
          },
          "metadata": {},
          "output_type": "display_data"
        },
        {
          "data": {
            "text/html": [
              "<style type=\"text/css\">\n",
              "#T_a70ce th {\n",
              "  text-align: left;\n",
              "}\n",
              "#T_a70ce_row0_col0 {\n",
              "  text-align: left;\n",
              "}\n",
              "#T_a70ce_row0_col1, #T_a70ce_row0_col2, #T_a70ce_row0_col3, #T_a70ce_row0_col4, #T_a70ce_row0_col5, #T_a70ce_row0_col6, #T_a70ce_row0_col7 {\n",
              "  text-align: left;\n",
              "  background-color: yellow;\n",
              "}\n",
              "#T_a70ce_row0_col8 {\n",
              "  text-align: left;\n",
              "  background-color: yellow;\n",
              "  background-color: lightgrey;\n",
              "}\n",
              "</style>\n",
              "<table id=\"T_a70ce\">\n",
              "  <thead>\n",
              "    <tr>\n",
              "      <th class=\"blank level0\" >&nbsp;</th>\n",
              "      <th id=\"T_a70ce_level0_col0\" class=\"col_heading level0 col0\" >Model</th>\n",
              "      <th id=\"T_a70ce_level0_col1\" class=\"col_heading level0 col1\" >Accuracy</th>\n",
              "      <th id=\"T_a70ce_level0_col2\" class=\"col_heading level0 col2\" >AUC</th>\n",
              "      <th id=\"T_a70ce_level0_col3\" class=\"col_heading level0 col3\" >Recall</th>\n",
              "      <th id=\"T_a70ce_level0_col4\" class=\"col_heading level0 col4\" >Prec.</th>\n",
              "      <th id=\"T_a70ce_level0_col5\" class=\"col_heading level0 col5\" >F1</th>\n",
              "      <th id=\"T_a70ce_level0_col6\" class=\"col_heading level0 col6\" >Kappa</th>\n",
              "      <th id=\"T_a70ce_level0_col7\" class=\"col_heading level0 col7\" >MCC</th>\n",
              "      <th id=\"T_a70ce_level0_col8\" class=\"col_heading level0 col8\" >TT (Sec)</th>\n",
              "    </tr>\n",
              "  </thead>\n",
              "  <tbody>\n",
              "    <tr>\n",
              "      <th id=\"T_a70ce_level0_row0\" class=\"row_heading level0 row0\" >lightgbm</th>\n",
              "      <td id=\"T_a70ce_row0_col0\" class=\"data row0 col0\" >Light Gradient Boosting Machine</td>\n",
              "      <td id=\"T_a70ce_row0_col1\" class=\"data row0 col1\" >0.6562</td>\n",
              "      <td id=\"T_a70ce_row0_col2\" class=\"data row0 col2\" >0.8693</td>\n",
              "      <td id=\"T_a70ce_row0_col3\" class=\"data row0 col3\" >0.6562</td>\n",
              "      <td id=\"T_a70ce_row0_col4\" class=\"data row0 col4\" >0.6155</td>\n",
              "      <td id=\"T_a70ce_row0_col5\" class=\"data row0 col5\" >0.6215</td>\n",
              "      <td id=\"T_a70ce_row0_col6\" class=\"data row0 col6\" >0.4860</td>\n",
              "      <td id=\"T_a70ce_row0_col7\" class=\"data row0 col7\" >0.4933</td>\n",
              "      <td id=\"T_a70ce_row0_col8\" class=\"data row0 col8\" >16.9300</td>\n",
              "    </tr>\n",
              "  </tbody>\n",
              "</table>\n"
            ],
            "text/plain": [
              "<pandas.io.formats.style.Styler at 0x2c4157ee0>"
            ]
          },
          "metadata": {},
          "output_type": "display_data"
        },
        {
          "data": {
            "text/html": [],
            "text/plain": [
              "<IPython.core.display.HTML object>"
            ]
          },
          "metadata": {},
          "output_type": "display_data"
        }
      ],
      "source": [
        "best = compare_models(sort=\"AUC\", n_select=3, include=[\"lightgbm\"])"
      ]
    },
    {
      "cell_type": "code",
      "execution_count": null,
      "metadata": {},
      "outputs": [],
      "source": [
        "0.8586"
      ]
    },
    {
      "cell_type": "code",
      "execution_count": 110,
      "metadata": {
        "colab": {
          "base_uri": "https://localhost:8080/",
          "height": 300
        },
        "id": "FtG1k_wG75mH",
        "outputId": "6346f4c2-d59e-4174-992c-2209936bf5c5"
      },
      "outputs": [
        {
          "data": {
            "application/vnd.jupyter.widget-view+json": {
              "model_id": "f88577592b534675bfada2d5ec0ddb8b",
              "version_major": 2,
              "version_minor": 0
            },
            "text/plain": [
              "interactive(children=(ToggleButtons(description='Plot Type:', icons=('',), options=(('Pipeline Plot', 'pipelin…"
            ]
          },
          "metadata": {},
          "output_type": "display_data"
        }
      ],
      "source": [
        "evaluate_model(best)"
      ]
    },
    {
      "cell_type": "code",
      "execution_count": 113,
      "metadata": {
        "id": "3K07xUL1PmWP"
      },
      "outputs": [
        {
          "data": {
            "text/html": [],
            "text/plain": [
              "<IPython.core.display.HTML object>"
            ]
          },
          "metadata": {},
          "output_type": "display_data"
        }
      ],
      "source": [
        "predictions = predict_model(best, data=test_data.drop(columns=['target']), raw_score=True)"
      ]
    },
    {
      "cell_type": "code",
      "execution_count": 114,
      "metadata": {},
      "outputs": [
        {
          "data": {
            "text/plain": [
              "<matplotlib.legend.Legend at 0x2c3e7e5f0>"
            ]
          },
          "execution_count": 114,
          "metadata": {},
          "output_type": "execute_result"
        },
        {
          "data": {
            "image/png": "[encoded data removed]",
            "text/plain": [
              "<Figure size 800x600 with 1 Axes>"
            ]
          },
          "metadata": {},
          "output_type": "display_data"
        }
      ],
      "source": [
        "from sklearn.metrics import roc_curve, auc\n",
        "import matplotlib.pyplot as plt\n",
        "\n",
        "\n",
        "plt.figure(figsize=(8, 6))\n",
        "roc_auc_values = []\n",
        "columns = ['prediction_score_0', 'prediction_score_1', 'prediction_score_2', \n",
        "'prediction_score_3', 'prediction_score_4',\t'prediction_score_5','prediction_score_6']\n",
        "for i in range(0, 7):\n",
        "    preds = predictions[columns[i]]\n",
        "    tmp = test_data.copy()\n",
        "    if i == 0:\n",
        "        tmp[tmp['target'] != i] = -1\n",
        "        tmp[tmp['target'] == i] = 1\n",
        "        tmp[tmp['target'] == -1] = 0\n",
        "    else:\n",
        "        tmp[tmp['target'] != i] = 0\n",
        "        tmp[tmp['target'] == i] = 1\n",
        "    fpr, tpr, _ = roc_curve(tmp['target'], preds)\n",
        "    \n",
        "    # Calculate ROC AUC\n",
        "    roc_auc = auc(fpr, tpr)\n",
        "    roc_auc_values.append(roc_auc)\n",
        "    \n",
        "    # Plot the ROC curve for the current column\n",
        "    plt.plot(fpr, tpr, lw=2, label=f'{i} (area = {roc_auc:.2f})')\n",
        "\n",
        "plt.plot([0, 1], [0, 1], color='navy', lw=2, linestyle='--')\n",
        "plt.xlim([0.0, 1.0])\n",
        "plt.ylim([0.0, 1.05])\n",
        "plt.xlabel('False Positive Rate')\n",
        "plt.ylabel('True Positive Rate')\n",
        "plt.title('ROC Curves for Multiple Columns')\n",
        "plt.legend(loc='lower right')"
      ]
    },
    {
      "cell_type": "code",
      "execution_count": 29,
      "metadata": {
        "colab": {
          "base_uri": "https://localhost:8080/",
          "height": 206
        },
        "id": "r3Txz2hoOlkN",
        "outputId": "5d01ea4a-f6fb-4d0c-c502-8ff8ffed8a09"
      },
      "outputs": [
        {
          "data": {
            "text/html": [
              "<div>\n",
              "<style scoped>\n",
              "    .dataframe tbody tr th:only-of-type {\n",
              "        vertical-align: middle;\n",
              "    }\n",
              "\n",
              "    .dataframe tbody tr th {\n",
              "        vertical-align: top;\n",
              "    }\n",
              "\n",
              "    .dataframe thead th {\n",
              "        text-align: right;\n",
              "    }\n",
              "</style>\n",
              "<table border=\"1\" class=\"dataframe\">\n",
              "  <thead>\n",
              "    <tr style=\"text-align: right;\">\n",
              "      <th></th>\n",
              "      <th>report_dt</th>\n",
              "      <th>horizon_dt</th>\n",
              "      <th>Базовый тип для прогноза</th>\n",
              "      <th>Район_new</th>\n",
              "    </tr>\n",
              "  </thead>\n",
              "  <tbody>\n",
              "    <tr>\n",
              "      <th>814004</th>\n",
              "      <td>2022-10-08</td>\n",
              "      <td>2022-10-09</td>\n",
              "      <td>0</td>\n",
              "      <td>Чернушинский ГО</td>\n",
              "    </tr>\n",
              "    <tr>\n",
              "      <th>248932</th>\n",
              "      <td>2019-06-08</td>\n",
              "      <td>2019-06-10</td>\n",
              "      <td>Прочие опасности</td>\n",
              "      <td>Краснокамский ГО</td>\n",
              "    </tr>\n",
              "    <tr>\n",
              "      <th>404840</th>\n",
              "      <td>2020-04-14</td>\n",
              "      <td>2020-04-19</td>\n",
              "      <td>Опасные природные явления</td>\n",
              "      <td>Ильинский ГО</td>\n",
              "    </tr>\n",
              "    <tr>\n",
              "      <th>238537</th>\n",
              "      <td>2019-05-19</td>\n",
              "      <td>2019-05-27</td>\n",
              "      <td>Взрывы/пожары/разрушения</td>\n",
              "      <td>Оханский ГО</td>\n",
              "    </tr>\n",
              "    <tr>\n",
              "      <th>44007</th>\n",
              "      <td>2018-03-20</td>\n",
              "      <td>2018-03-28</td>\n",
              "      <td>Взрывы/пожары/разрушения</td>\n",
              "      <td>Губахинский МО</td>\n",
              "    </tr>\n",
              "  </tbody>\n",
              "</table>\n",
              "</div>"
            ],
            "text/plain": [
              "         report_dt  horizon_dt   Базовый тип для прогноза         Район_new\n",
              "814004  2022-10-08  2022-10-09                          0   Чернушинский ГО\n",
              "248932  2019-06-08  2019-06-10           Прочие опасности  Краснокамский ГО\n",
              "404840  2020-04-14  2020-04-19  Опасные природные явления      Ильинский ГО\n",
              "238537  2019-05-19  2019-05-27   Взрывы/пожары/разрушения       Оханский ГО\n",
              "44007   2018-03-20  2018-03-28   Взрывы/пожары/разрушения    Губахинский МО"
            ]
          },
          "execution_count": 29,
          "metadata": {},
          "output_type": "execute_result"
        }
      ],
      "source": [
        "scoring_data = pd.read_csv(\"data scoring.csv\")\n",
        "scoring_data.sample(5)"
      ]
    },
    {
      "cell_type": "code",
      "execution_count": 30,
      "metadata": {
        "id": "NvypZH7mQTgb"
      },
      "outputs": [],
      "source": [
        "scoring_data.rename(columns={\"report_dt\":\"Time\"}, inplace=True)\n",
        "scoring_data['Time'] = pd.to_datetime(scoring_data['Time'], format='%Y.%m.%d')\n",
        "\n",
        "scoring_data = pd.merge(scoring_data, df_weather_morning_cherd, on='Time', how='inner', suffixes=('', '_mr_cherd'))\n",
        "scoring_data = pd.merge(scoring_data, df_weather_morning_cher, on='Time', how='inner', suffixes=('', '_mr_cher'))\n",
        "scoring_data = pd.merge(scoring_data, df_weather_morning_perm, on='Time', how='inner', suffixes=('', '_mr_perm'))\n",
        "\n",
        "scoring_data = pd.merge(scoring_data, df_weather_aftrenoon_cher, on='Time', how='inner', suffixes=('', '_af_cher'))\n",
        "scoring_data = pd.merge(scoring_data, df_weather_aftrenoon_cherd, on='Time', how='inner', suffixes=('', '_af_cherd'))\n",
        "scoring_data = pd.merge(scoring_data, df_weather_aftrenoon_perm, on='Time', how='inner', suffixes=('', '_af_perm'))\n",
        "\n",
        "scoring_data = pd.merge(scoring_data, df_disaster, on='Time', how='inner')\n",
        "scoring_data = scoring_data.rename(columns={\"Базовый тип для прогноза\": \"target\"})"
      ]
    },
    {
      "cell_type": "code",
      "execution_count": 31,
      "metadata": {
        "colab": {
          "base_uri": "https://localhost:8080/",
          "height": 17
        },
        "id": "XWod8oPIROm7",
        "outputId": "82cc0498-76ab-40be-d2c2-5e2fc9bcf335"
      },
      "outputs": [
        {
          "data": {
            "text/html": [],
            "text/plain": [
              "<IPython.core.display.HTML object>"
            ]
          },
          "metadata": {},
          "output_type": "display_data"
        }
      ],
      "source": [
        "predictions_vl = predict_model(best, data=scoring_data.drop(columns=['Time','horizon_dt', 'target']), raw_score=True)"
      ]
    },
    {
      "cell_type": "code",
      "execution_count": 33,
      "metadata": {},
      "outputs": [],
      "source": [
        "small = predictions_vl[['Район_new', 'prediction_label', \n",
        "'prediction_score_0', \n",
        "'prediction_score_1', \n",
        "'prediction_score_2', \n",
        "'prediction_score_3', \n",
        "'prediction_score_4', \n",
        "'prediction_score_5',\n",
        "'prediction_score_6'\n",
        "]]"
      ]
    },
    {
      "cell_type": "code",
      "execution_count": 36,
      "metadata": {},
      "outputs": [],
      "source": [
        "scoring_data[['prediction_label', \n",
        "'prediction_score_0', \n",
        "'prediction_score_1', \n",
        "'prediction_score_2', \n",
        "'prediction_score_3', \n",
        "'prediction_score_4', \n",
        "'prediction_score_5',\n",
        "'prediction_score_6']] = small[['prediction_label', \n",
        "'prediction_score_0', \n",
        "'prediction_score_1', \n",
        "'prediction_score_2', \n",
        "'prediction_score_3', \n",
        "'prediction_score_4', \n",
        "'prediction_score_5',\n",
        "'prediction_score_6']]"
      ]
    },
    {
      "cell_type": "code",
      "execution_count": 38,
      "metadata": {},
      "outputs": [],
      "source": [
        "scoring_data[['Time', 'horizon_dt','target', 'Район_new', 'prediction_label', \n",
        "'prediction_score_0', \n",
        "'prediction_score_1', \n",
        "'prediction_score_2', \n",
        "'prediction_score_3', \n",
        "'prediction_score_4', \n",
        "'prediction_score_5',\n",
        "'prediction_score_6']].to_csv(\"preds_all.csv\")"
      ]
    },
    {
      "cell_type": "code",
      "execution_count": 39,
      "metadata": {},
      "outputs": [
        {
          "data": {
            "text/html": [
              "<div>\n",
              "<style scoped>\n",
              "    .dataframe tbody tr th:only-of-type {\n",
              "        vertical-align: middle;\n",
              "    }\n",
              "\n",
              "    .dataframe tbody tr th {\n",
              "        vertical-align: top;\n",
              "    }\n",
              "\n",
              "    .dataframe thead th {\n",
              "        text-align: right;\n",
              "    }\n",
              "</style>\n",
              "<table border=\"1\" class=\"dataframe\">\n",
              "  <thead>\n",
              "    <tr style=\"text-align: right;\">\n",
              "      <th></th>\n",
              "      <th>Time</th>\n",
              "      <th>horizon_dt</th>\n",
              "      <th>target</th>\n",
              "      <th>Район_new</th>\n",
              "      <th>prediction_label</th>\n",
              "      <th>prediction_score_0</th>\n",
              "      <th>prediction_score_1</th>\n",
              "      <th>prediction_score_2</th>\n",
              "      <th>prediction_score_3</th>\n",
              "      <th>prediction_score_4</th>\n",
              "      <th>prediction_score_5</th>\n",
              "      <th>prediction_score_6</th>\n",
              "    </tr>\n",
              "  </thead>\n",
              "  <tbody>\n",
              "    <tr>\n",
              "      <th>0</th>\n",
              "      <td>2018-01-01</td>\n",
              "      <td>2018-01-02</td>\n",
              "      <td>0</td>\n",
              "      <td>Пермский ГО</td>\n",
              "      <td>1</td>\n",
              "      <td>0.0916</td>\n",
              "      <td>0.6269</td>\n",
              "      <td>0.0745</td>\n",
              "      <td>0.0234</td>\n",
              "      <td>0.1745</td>\n",
              "      <td>0.0070</td>\n",
              "      <td>0.0020</td>\n",
              "    </tr>\n",
              "    <tr>\n",
              "      <th>1</th>\n",
              "      <td>2018-01-01</td>\n",
              "      <td>2018-01-02</td>\n",
              "      <td>0</td>\n",
              "      <td>Пермский МО</td>\n",
              "      <td>1</td>\n",
              "      <td>0.3131</td>\n",
              "      <td>0.4232</td>\n",
              "      <td>0.0776</td>\n",
              "      <td>0.0377</td>\n",
              "      <td>0.1383</td>\n",
              "      <td>0.0074</td>\n",
              "      <td>0.0027</td>\n",
              "    </tr>\n",
              "    <tr>\n",
              "      <th>2</th>\n",
              "      <td>2018-01-01</td>\n",
              "      <td>2018-01-02</td>\n",
              "      <td>0</td>\n",
              "      <td>Кунгурский МО</td>\n",
              "      <td>0</td>\n",
              "      <td>0.4146</td>\n",
              "      <td>0.3584</td>\n",
              "      <td>0.0377</td>\n",
              "      <td>0.0316</td>\n",
              "      <td>0.1479</td>\n",
              "      <td>0.0081</td>\n",
              "      <td>0.0017</td>\n",
              "    </tr>\n",
              "    <tr>\n",
              "      <th>3</th>\n",
              "      <td>2018-01-01</td>\n",
              "      <td>2018-01-02</td>\n",
              "      <td>0</td>\n",
              "      <td>Соликамский ГО</td>\n",
              "      <td>0</td>\n",
              "      <td>0.5232</td>\n",
              "      <td>0.2590</td>\n",
              "      <td>0.0278</td>\n",
              "      <td>0.0270</td>\n",
              "      <td>0.1593</td>\n",
              "      <td>0.0033</td>\n",
              "      <td>0.0004</td>\n",
              "    </tr>\n",
              "    <tr>\n",
              "      <th>4</th>\n",
              "      <td>2018-01-01</td>\n",
              "      <td>2018-01-02</td>\n",
              "      <td>0</td>\n",
              "      <td>Верещагинский ГО</td>\n",
              "      <td>0</td>\n",
              "      <td>0.4097</td>\n",
              "      <td>0.2613</td>\n",
              "      <td>0.0444</td>\n",
              "      <td>0.0276</td>\n",
              "      <td>0.2518</td>\n",
              "      <td>0.0025</td>\n",
              "      <td>0.0026</td>\n",
              "    </tr>\n",
              "    <tr>\n",
              "      <th>...</th>\n",
              "      <td>...</td>\n",
              "      <td>...</td>\n",
              "      <td>...</td>\n",
              "      <td>...</td>\n",
              "      <td>...</td>\n",
              "      <td>...</td>\n",
              "      <td>...</td>\n",
              "      <td>...</td>\n",
              "      <td>...</td>\n",
              "      <td>...</td>\n",
              "      <td>...</td>\n",
              "      <td>...</td>\n",
              "    </tr>\n",
              "    <tr>\n",
              "      <th>840602</th>\n",
              "      <td>2022-12-27</td>\n",
              "      <td>2022-12-28</td>\n",
              "      <td>Взрывы/пожары/разрушения</td>\n",
              "      <td>Ильинский ГО</td>\n",
              "      <td>0</td>\n",
              "      <td>0.8801</td>\n",
              "      <td>0.0253</td>\n",
              "      <td>0.0319</td>\n",
              "      <td>0.0019</td>\n",
              "      <td>0.0587</td>\n",
              "      <td>0.0008</td>\n",
              "      <td>0.0012</td>\n",
              "    </tr>\n",
              "    <tr>\n",
              "      <th>840603</th>\n",
              "      <td>2022-12-27</td>\n",
              "      <td>2022-12-28</td>\n",
              "      <td>Взрывы/пожары/разрушения</td>\n",
              "      <td>Большесосновский МО</td>\n",
              "      <td>0</td>\n",
              "      <td>0.8082</td>\n",
              "      <td>0.0313</td>\n",
              "      <td>0.0418</td>\n",
              "      <td>0.0042</td>\n",
              "      <td>0.1122</td>\n",
              "      <td>0.0010</td>\n",
              "      <td>0.0014</td>\n",
              "    </tr>\n",
              "    <tr>\n",
              "      <th>840604</th>\n",
              "      <td>2022-12-27</td>\n",
              "      <td>2022-12-28</td>\n",
              "      <td>Взрывы/пожары/разрушения</td>\n",
              "      <td>Косинский МО</td>\n",
              "      <td>0</td>\n",
              "      <td>0.8685</td>\n",
              "      <td>0.0197</td>\n",
              "      <td>0.0224</td>\n",
              "      <td>0.0148</td>\n",
              "      <td>0.0707</td>\n",
              "      <td>0.0010</td>\n",
              "      <td>0.0029</td>\n",
              "    </tr>\n",
              "    <tr>\n",
              "      <th>840605</th>\n",
              "      <td>2022-12-27</td>\n",
              "      <td>2022-12-28</td>\n",
              "      <td>Взрывы/пожары/разрушения</td>\n",
              "      <td>Ординский МО</td>\n",
              "      <td>0</td>\n",
              "      <td>0.9555</td>\n",
              "      <td>0.0066</td>\n",
              "      <td>0.0187</td>\n",
              "      <td>0.0014</td>\n",
              "      <td>0.0163</td>\n",
              "      <td>0.0006</td>\n",
              "      <td>0.0008</td>\n",
              "    </tr>\n",
              "    <tr>\n",
              "      <th>840606</th>\n",
              "      <td>2022-12-27</td>\n",
              "      <td>2022-12-28</td>\n",
              "      <td>Взрывы/пожары/разрушения</td>\n",
              "      <td>ЗАТО Звездный</td>\n",
              "      <td>2</td>\n",
              "      <td>0.3511</td>\n",
              "      <td>0.0382</td>\n",
              "      <td>0.3815</td>\n",
              "      <td>0.0186</td>\n",
              "      <td>0.1968</td>\n",
              "      <td>0.0028</td>\n",
              "      <td>0.0109</td>\n",
              "    </tr>\n",
              "  </tbody>\n",
              "</table>\n",
              "<p>840607 rows × 12 columns</p>\n",
              "</div>"
            ],
            "text/plain": [
              "             Time  horizon_dt                    target            Район_new  \\\n",
              "0      2018-01-01  2018-01-02                         0          Пермский ГО   \n",
              "1      2018-01-01  2018-01-02                         0          Пермский МО   \n",
              "2      2018-01-01  2018-01-02                         0        Кунгурский МО   \n",
              "3      2018-01-01  2018-01-02                         0       Соликамский ГО   \n",
              "4      2018-01-01  2018-01-02                         0     Верещагинский ГО   \n",
              "...           ...         ...                       ...                  ...   \n",
              "840602 2022-12-27  2022-12-28  Взрывы/пожары/разрушения         Ильинский ГО   \n",
              "840603 2022-12-27  2022-12-28  Взрывы/пожары/разрушения  Большесосновский МО   \n",
              "840604 2022-12-27  2022-12-28  Взрывы/пожары/разрушения         Косинский МО   \n",
              "840605 2022-12-27  2022-12-28  Взрывы/пожары/разрушения         Ординский МО   \n",
              "840606 2022-12-27  2022-12-28  Взрывы/пожары/разрушения        ЗАТО Звездный   \n",
              "\n",
              "        prediction_label  prediction_score_0  prediction_score_1  \\\n",
              "0                      1              0.0916              0.6269   \n",
              "1                      1              0.3131              0.4232   \n",
              "2                      0              0.4146              0.3584   \n",
              "3                      0              0.5232              0.2590   \n",
              "4                      0              0.4097              0.2613   \n",
              "...                  ...                 ...                 ...   \n",
              "840602                 0              0.8801              0.0253   \n",
              "840603                 0              0.8082              0.0313   \n",
              "840604                 0              0.8685              0.0197   \n",
              "840605                 0              0.9555              0.0066   \n",
              "840606                 2              0.3511              0.0382   \n",
              "\n",
              "        prediction_score_2  prediction_score_3  prediction_score_4  \\\n",
              "0                   0.0745              0.0234              0.1745   \n",
              "1                   0.0776              0.0377              0.1383   \n",
              "2                   0.0377              0.0316              0.1479   \n",
              "3                   0.0278              0.0270              0.1593   \n",
              "4                   0.0444              0.0276              0.2518   \n",
              "...                    ...                 ...                 ...   \n",
              "840602              0.0319              0.0019              0.0587   \n",
              "840603              0.0418              0.0042              0.1122   \n",
              "840604              0.0224              0.0148              0.0707   \n",
              "840605              0.0187              0.0014              0.0163   \n",
              "840606              0.3815              0.0186              0.1968   \n",
              "\n",
              "        prediction_score_5  prediction_score_6  \n",
              "0                   0.0070              0.0020  \n",
              "1                   0.0074              0.0027  \n",
              "2                   0.0081              0.0017  \n",
              "3                   0.0033              0.0004  \n",
              "4                   0.0025              0.0026  \n",
              "...                    ...                 ...  \n",
              "840602              0.0008              0.0012  \n",
              "840603              0.0010              0.0014  \n",
              "840604              0.0010              0.0029  \n",
              "840605              0.0006              0.0008  \n",
              "840606              0.0028              0.0109  \n",
              "\n",
              "[840607 rows x 12 columns]"
            ]
          },
          "execution_count": 39,
          "metadata": {},
          "output_type": "execute_result"
        }
      ],
      "source": [
        "scoring_data[['Time', 'horizon_dt','target', 'Район_new', 'prediction_label', \n",
        "'prediction_score_0', \n",
        "'prediction_score_1', \n",
        "'prediction_score_2', \n",
        "'prediction_score_3', \n",
        "'prediction_score_4', \n",
        "'prediction_score_5',\n",
        "'prediction_score_6']]"
      ]
    },
    {
      "cell_type": "code",
      "execution_count": 44,
      "metadata": {},
      "outputs": [
        {
          "data": {
            "text/plain": [
              "0.5864976142240071"
            ]
          },
          "execution_count": 44,
          "metadata": {},
          "output_type": "execute_result"
        }
      ],
      "source": [
        "from sklearn.metrics import accuracy_score\n",
        "accuracy_score(scoring_data['target'].replace(name_to_int), scoring_data['prediction_label'])"
      ]
    },
    {
      "cell_type": "code",
      "execution_count": 34,
      "metadata": {},
      "outputs": [
        {
          "data": {
            "text/html": [
              "<div>\n",
              "<style scoped>\n",
              "    .dataframe tbody tr th:only-of-type {\n",
              "        vertical-align: middle;\n",
              "    }\n",
              "\n",
              "    .dataframe tbody tr th {\n",
              "        vertical-align: top;\n",
              "    }\n",
              "\n",
              "    .dataframe thead th {\n",
              "        text-align: right;\n",
              "    }\n",
              "</style>\n",
              "<table border=\"1\" class=\"dataframe\">\n",
              "  <thead>\n",
              "    <tr style=\"text-align: right;\">\n",
              "      <th></th>\n",
              "      <th>Район_new</th>\n",
              "      <th>prediction_label</th>\n",
              "      <th>prediction_score_0</th>\n",
              "      <th>prediction_score_1</th>\n",
              "      <th>prediction_score_2</th>\n",
              "      <th>prediction_score_3</th>\n",
              "      <th>prediction_score_4</th>\n",
              "      <th>prediction_score_5</th>\n",
              "      <th>prediction_score_6</th>\n",
              "    </tr>\n",
              "  </thead>\n",
              "  <tbody>\n",
              "    <tr>\n",
              "      <th>0</th>\n",
              "      <td>Пермский ГО</td>\n",
              "      <td>1</td>\n",
              "      <td>0.0916</td>\n",
              "      <td>0.6269</td>\n",
              "      <td>0.0745</td>\n",
              "      <td>0.0234</td>\n",
              "      <td>0.1745</td>\n",
              "      <td>0.0070</td>\n",
              "      <td>0.0020</td>\n",
              "    </tr>\n",
              "    <tr>\n",
              "      <th>1</th>\n",
              "      <td>Пермский МО</td>\n",
              "      <td>1</td>\n",
              "      <td>0.3131</td>\n",
              "      <td>0.4232</td>\n",
              "      <td>0.0776</td>\n",
              "      <td>0.0377</td>\n",
              "      <td>0.1383</td>\n",
              "      <td>0.0074</td>\n",
              "      <td>0.0027</td>\n",
              "    </tr>\n",
              "    <tr>\n",
              "      <th>2</th>\n",
              "      <td>Кунгурский МО</td>\n",
              "      <td>0</td>\n",
              "      <td>0.4146</td>\n",
              "      <td>0.3584</td>\n",
              "      <td>0.0377</td>\n",
              "      <td>0.0316</td>\n",
              "      <td>0.1479</td>\n",
              "      <td>0.0081</td>\n",
              "      <td>0.0017</td>\n",
              "    </tr>\n",
              "    <tr>\n",
              "      <th>3</th>\n",
              "      <td>Соликамский ГО</td>\n",
              "      <td>0</td>\n",
              "      <td>0.5232</td>\n",
              "      <td>0.2590</td>\n",
              "      <td>0.0278</td>\n",
              "      <td>0.0270</td>\n",
              "      <td>0.1593</td>\n",
              "      <td>0.0033</td>\n",
              "      <td>0.0004</td>\n",
              "    </tr>\n",
              "    <tr>\n",
              "      <th>4</th>\n",
              "      <td>Верещагинский ГО</td>\n",
              "      <td>0</td>\n",
              "      <td>0.4097</td>\n",
              "      <td>0.2613</td>\n",
              "      <td>0.0444</td>\n",
              "      <td>0.0276</td>\n",
              "      <td>0.2518</td>\n",
              "      <td>0.0025</td>\n",
              "      <td>0.0026</td>\n",
              "    </tr>\n",
              "    <tr>\n",
              "      <th>...</th>\n",
              "      <td>...</td>\n",
              "      <td>...</td>\n",
              "      <td>...</td>\n",
              "      <td>...</td>\n",
              "      <td>...</td>\n",
              "      <td>...</td>\n",
              "      <td>...</td>\n",
              "      <td>...</td>\n",
              "      <td>...</td>\n",
              "    </tr>\n",
              "    <tr>\n",
              "      <th>840602</th>\n",
              "      <td>Ильинский ГО</td>\n",
              "      <td>0</td>\n",
              "      <td>0.8801</td>\n",
              "      <td>0.0253</td>\n",
              "      <td>0.0319</td>\n",
              "      <td>0.0019</td>\n",
              "      <td>0.0587</td>\n",
              "      <td>0.0008</td>\n",
              "      <td>0.0012</td>\n",
              "    </tr>\n",
              "    <tr>\n",
              "      <th>840603</th>\n",
              "      <td>Большесосновский МО</td>\n",
              "      <td>0</td>\n",
              "      <td>0.8082</td>\n",
              "      <td>0.0313</td>\n",
              "      <td>0.0418</td>\n",
              "      <td>0.0042</td>\n",
              "      <td>0.1122</td>\n",
              "      <td>0.0010</td>\n",
              "      <td>0.0014</td>\n",
              "    </tr>\n",
              "    <tr>\n",
              "      <th>840604</th>\n",
              "      <td>Косинский МО</td>\n",
              "      <td>0</td>\n",
              "      <td>0.8685</td>\n",
              "      <td>0.0197</td>\n",
              "      <td>0.0224</td>\n",
              "      <td>0.0148</td>\n",
              "      <td>0.0707</td>\n",
              "      <td>0.0010</td>\n",
              "      <td>0.0029</td>\n",
              "    </tr>\n",
              "    <tr>\n",
              "      <th>840605</th>\n",
              "      <td>Ординский МО</td>\n",
              "      <td>0</td>\n",
              "      <td>0.9555</td>\n",
              "      <td>0.0066</td>\n",
              "      <td>0.0187</td>\n",
              "      <td>0.0014</td>\n",
              "      <td>0.0163</td>\n",
              "      <td>0.0006</td>\n",
              "      <td>0.0008</td>\n",
              "    </tr>\n",
              "    <tr>\n",
              "      <th>840606</th>\n",
              "      <td>ЗАТО Звездный</td>\n",
              "      <td>2</td>\n",
              "      <td>0.3511</td>\n",
              "      <td>0.0382</td>\n",
              "      <td>0.3815</td>\n",
              "      <td>0.0186</td>\n",
              "      <td>0.1968</td>\n",
              "      <td>0.0028</td>\n",
              "      <td>0.0109</td>\n",
              "    </tr>\n",
              "  </tbody>\n",
              "</table>\n",
              "<p>840607 rows × 9 columns</p>\n",
              "</div>"
            ],
            "text/plain": [
              "                  Район_new  prediction_label  prediction_score_0  \\\n",
              "0               Пермский ГО                 1              0.0916   \n",
              "1               Пермский МО                 1              0.3131   \n",
              "2             Кунгурский МО                 0              0.4146   \n",
              "3            Соликамский ГО                 0              0.5232   \n",
              "4          Верещагинский ГО                 0              0.4097   \n",
              "...                     ...               ...                 ...   \n",
              "840602         Ильинский ГО                 0              0.8801   \n",
              "840603  Большесосновский МО                 0              0.8082   \n",
              "840604         Косинский МО                 0              0.8685   \n",
              "840605         Ординский МО                 0              0.9555   \n",
              "840606        ЗАТО Звездный                 2              0.3511   \n",
              "\n",
              "        prediction_score_1  prediction_score_2  prediction_score_3  \\\n",
              "0                   0.6269              0.0745              0.0234   \n",
              "1                   0.4232              0.0776              0.0377   \n",
              "2                   0.3584              0.0377              0.0316   \n",
              "3                   0.2590              0.0278              0.0270   \n",
              "4                   0.2613              0.0444              0.0276   \n",
              "...                    ...                 ...                 ...   \n",
              "840602              0.0253              0.0319              0.0019   \n",
              "840603              0.0313              0.0418              0.0042   \n",
              "840604              0.0197              0.0224              0.0148   \n",
              "840605              0.0066              0.0187              0.0014   \n",
              "840606              0.0382              0.3815              0.0186   \n",
              "\n",
              "        prediction_score_4  prediction_score_5  prediction_score_6  \n",
              "0                   0.1745              0.0070              0.0020  \n",
              "1                   0.1383              0.0074              0.0027  \n",
              "2                   0.1479              0.0081              0.0017  \n",
              "3                   0.1593              0.0033              0.0004  \n",
              "4                   0.2518              0.0025              0.0026  \n",
              "...                    ...                 ...                 ...  \n",
              "840602              0.0587              0.0008              0.0012  \n",
              "840603              0.1122              0.0010              0.0014  \n",
              "840604              0.0707              0.0010              0.0029  \n",
              "840605              0.0163              0.0006              0.0008  \n",
              "840606              0.1968              0.0028              0.0109  \n",
              "\n",
              "[840607 rows x 9 columns]"
            ]
          },
          "execution_count": 34,
          "metadata": {},
          "output_type": "execute_result"
        }
      ],
      "source": [
        "small"
      ]
    },
    {
      "cell_type": "code",
      "execution_count": null,
      "metadata": {
        "id": "T0vO9xhgTRMW"
      },
      "outputs": [],
      "source": [
        "predictions_vl.to_csv(\"preds.csv\")"
      ]
    },
    {
      "cell_type": "code",
      "execution_count": null,
      "metadata": {
        "id": "tD_2GCEgRxEF"
      },
      "outputs": [],
      "source": []
    },
    {
      "cell_type": "code",
      "execution_count": null,
      "metadata": {
        "id": "QoqzRZx503LJ"
      },
      "outputs": [],
      "source": []
    }
  ],
  "metadata": {
    "colab": {
      "provenance": []
    },
    "kernelspec": {
      "display_name": "Python 3",
      "name": "python3"
    },
    "language_info": {
      "codemirror_mode": {
        "name": "ipython",
        "version": 3
      },
      "file_extension": ".py",
      "mimetype": "text/x-python",
      "name": "python",
      "nbconvert_exporter": "python",
      "pygments_lexer": "ipython3",
      "version": "3.10.10"
    },
    "widgets": {
      "application/vnd.jupyter.widget-state+json": {
        "0489378bdf0c45d8bb616309c3d7ddbc": {
          "model_module": "@jupyter-widgets/base",
          "model_module_version": "1.2.0",
          "model_name": "LayoutModel",
          "state": {
            "_model_module": "@jupyter-widgets/base",
            "_model_module_version": "1.2.0",
            "_model_name": "LayoutModel",
            "_view_count": null,
            "_view_module": "@jupyter-widgets/base",
            "_view_module_version": "1.2.0",
            "_view_name": "LayoutView",
            "align_content": null,
            "align_items": null,
            "align_self": null,
            "border": null,
            "bottom": null,
            "display": null,
            "flex": null,
            "flex_flow": null,
            "grid_area": null,
            "grid_auto_columns": null,
            "grid_auto_flow": null,
            "grid_auto_rows": null,
            "grid_column": null,
            "grid_gap": null,
            "grid_row": null,
            "grid_template_areas": null,
            "grid_template_columns": null,
            "grid_template_rows": null,
            "height": null,
            "justify_content": null,
            "justify_items": null,
            "left": null,
            "margin": null,
            "max_height": null,
            "max_width": null,
            "min_height": null,
            "min_width": null,
            "object_fit": null,
            "object_position": null,
            "order": null,
            "overflow": null,
            "overflow_x": null,
            "overflow_y": null,
            "padding": null,
            "right": null,
            "top": null,
            "visibility": "hidden",
            "width": null
          }
        },
        "1985c69bcb8b4a01afcebf77b73166a2": {
          "model_module": "@jupyter-widgets/base",
          "model_module_version": "1.2.0",
          "model_name": "LayoutModel",
          "state": {
            "_model_module": "@jupyter-widgets/base",
            "_model_module_version": "1.2.0",
            "_model_name": "LayoutModel",
            "_view_count": null,
            "_view_module": "@jupyter-widgets/base",
            "_view_module_version": "1.2.0",
            "_view_name": "LayoutView",
            "align_content": null,
            "align_items": null,
            "align_self": null,
            "border": null,
            "bottom": null,
            "display": null,
            "flex": null,
            "flex_flow": null,
            "grid_area": null,
            "grid_auto_columns": null,
            "grid_auto_flow": null,
            "grid_auto_rows": null,
            "grid_column": null,
            "grid_gap": null,
            "grid_row": null,
            "grid_template_areas": null,
            "grid_template_columns": null,
            "grid_template_rows": null,
            "height": null,
            "justify_content": null,
            "justify_items": null,
            "left": null,
            "margin": null,
            "max_height": null,
            "max_width": null,
            "min_height": null,
            "min_width": null,
            "object_fit": null,
            "object_position": null,
            "order": null,
            "overflow": null,
            "overflow_x": null,
            "overflow_y": null,
            "padding": null,
            "right": null,
            "top": null,
            "visibility": null,
            "width": null
          }
        },
        "1a48a7bf4f9a4c5cb056bb295eef5185": {
          "model_module": "@jupyter-widgets/base",
          "model_module_version": "1.2.0",
          "model_name": "LayoutModel",
          "state": {
            "_model_module": "@jupyter-widgets/base",
            "_model_module_version": "1.2.0",
            "_model_name": "LayoutModel",
            "_view_count": null,
            "_view_module": "@jupyter-widgets/base",
            "_view_module_version": "1.2.0",
            "_view_name": "LayoutView",
            "align_content": null,
            "align_items": null,
            "align_self": null,
            "border": null,
            "bottom": null,
            "display": null,
            "flex": null,
            "flex_flow": null,
            "grid_area": null,
            "grid_auto_columns": null,
            "grid_auto_flow": null,
            "grid_auto_rows": null,
            "grid_column": null,
            "grid_gap": null,
            "grid_row": null,
            "grid_template_areas": null,
            "grid_template_columns": null,
            "grid_template_rows": null,
            "height": null,
            "justify_content": null,
            "justify_items": null,
            "left": null,
            "margin": null,
            "max_height": null,
            "max_width": null,
            "min_height": null,
            "min_width": null,
            "object_fit": null,
            "object_position": null,
            "order": null,
            "overflow": null,
            "overflow_x": null,
            "overflow_y": null,
            "padding": null,
            "right": null,
            "top": null,
            "visibility": null,
            "width": null
          }
        },
        "333d72e927864d5fac70cc9a9dcfa48c": {
          "model_module": "@jupyter-widgets/controls",
          "model_module_version": "1.5.0",
          "model_name": "DescriptionStyleModel",
          "state": {
            "_model_module": "@jupyter-widgets/controls",
            "_model_module_version": "1.5.0",
            "_model_name": "DescriptionStyleModel",
            "_view_count": null,
            "_view_module": "@jupyter-widgets/base",
            "_view_module_version": "1.2.0",
            "_view_name": "StyleView",
            "description_width": ""
          }
        },
        "356a299931a1433db4fd5d09bda2d693": {
          "model_module": "@jupyter-widgets/controls",
          "model_module_version": "1.5.0",
          "model_name": "ProgressStyleModel",
          "state": {
            "_model_module": "@jupyter-widgets/controls",
            "_model_module_version": "1.5.0",
            "_model_name": "ProgressStyleModel",
            "_view_count": null,
            "_view_module": "@jupyter-widgets/base",
            "_view_module_version": "1.2.0",
            "_view_name": "StyleView",
            "bar_color": null,
            "description_width": ""
          }
        },
        "6ea3e4cb4583456f82901fffbcbc9c2f": {
          "model_module": "@jupyter-widgets/controls",
          "model_module_version": "1.5.0",
          "model_name": "HTMLModel",
          "state": {
            "_dom_classes": [],
            "_model_module": "@jupyter-widgets/controls",
            "_model_module_version": "1.5.0",
            "_model_name": "HTMLModel",
            "_view_count": null,
            "_view_module": "@jupyter-widgets/controls",
            "_view_module_version": "1.5.0",
            "_view_name": "HTMLView",
            "description": "",
            "description_tooltip": null,
            "layout": "IPY_MODEL_1985c69bcb8b4a01afcebf77b73166a2",
            "placeholder": "​",
            "style": "IPY_MODEL_e625904e1c9d4e5b9055c7996d8930d0",
            "value": " 9/9 [15:20&lt;00:00, 95.02s/it]"
          }
        },
        "a25fbce51b7444028cef3b8d4f5e02a5": {
          "model_module": "@jupyter-widgets/controls",
          "model_module_version": "1.5.0",
          "model_name": "HBoxModel",
          "state": {
            "_dom_classes": [],
            "_model_module": "@jupyter-widgets/controls",
            "_model_module_version": "1.5.0",
            "_model_name": "HBoxModel",
            "_view_count": null,
            "_view_module": "@jupyter-widgets/controls",
            "_view_module_version": "1.5.0",
            "_view_name": "HBoxView",
            "box_style": "",
            "children": [
              "IPY_MODEL_b89198196f57465096e51964ce58ec6a",
              "IPY_MODEL_ddc771a5f64444daab1526a3c0975a70",
              "IPY_MODEL_6ea3e4cb4583456f82901fffbcbc9c2f"
            ],
            "layout": "IPY_MODEL_0489378bdf0c45d8bb616309c3d7ddbc"
          }
        },
        "b89198196f57465096e51964ce58ec6a": {
          "model_module": "@jupyter-widgets/controls",
          "model_module_version": "1.5.0",
          "model_name": "HTMLModel",
          "state": {
            "_dom_classes": [],
            "_model_module": "@jupyter-widgets/controls",
            "_model_module_version": "1.5.0",
            "_model_name": "HTMLModel",
            "_view_count": null,
            "_view_module": "@jupyter-widgets/controls",
            "_view_module_version": "1.5.0",
            "_view_name": "HTMLView",
            "description": "",
            "description_tooltip": null,
            "layout": "IPY_MODEL_1a48a7bf4f9a4c5cb056bb295eef5185",
            "placeholder": "​",
            "style": "IPY_MODEL_333d72e927864d5fac70cc9a9dcfa48c",
            "value": "Processing: 100%"
          }
        },
        "ddc771a5f64444daab1526a3c0975a70": {
          "model_module": "@jupyter-widgets/controls",
          "model_module_version": "1.5.0",
          "model_name": "FloatProgressModel",
          "state": {
            "_dom_classes": [],
            "_model_module": "@jupyter-widgets/controls",
            "_model_module_version": "1.5.0",
            "_model_name": "FloatProgressModel",
            "_view_count": null,
            "_view_module": "@jupyter-widgets/controls",
            "_view_module_version": "1.5.0",
            "_view_name": "ProgressView",
            "bar_style": "",
            "description": "",
            "description_tooltip": null,
            "layout": "IPY_MODEL_ead9f8dd8b6a4b6485605613ae59de47",
            "max": 9,
            "min": 0,
            "orientation": "horizontal",
            "style": "IPY_MODEL_356a299931a1433db4fd5d09bda2d693",
            "value": 9
          }
        },
        "e625904e1c9d4e5b9055c7996d8930d0": {
          "model_module": "@jupyter-widgets/controls",
          "model_module_version": "1.5.0",
          "model_name": "DescriptionStyleModel",
          "state": {
            "_model_module": "@jupyter-widgets/controls",
            "_model_module_version": "1.5.0",
            "_model_name": "DescriptionStyleModel",
            "_view_count": null,
            "_view_module": "@jupyter-widgets/base",
            "_view_module_version": "1.2.0",
            "_view_name": "StyleView",
            "description_width": ""
          }
        },
        "ead9f8dd8b6a4b6485605613ae59de47": {
          "model_module": "@jupyter-widgets/base",
          "model_module_version": "1.2.0",
          "model_name": "LayoutModel",
          "state": {
            "_model_module": "@jupyter-widgets/base",
            "_model_module_version": "1.2.0",
            "_model_name": "LayoutModel",
            "_view_count": null,
            "_view_module": "@jupyter-widgets/base",
            "_view_module_version": "1.2.0",
            "_view_name": "LayoutView",
            "align_content": null,
            "align_items": null,
            "align_self": null,
            "border": null,
            "bottom": null,
            "display": null,
            "flex": null,
            "flex_flow": null,
            "grid_area": null,
            "grid_auto_columns": null,
            "grid_auto_flow": null,
            "grid_auto_rows": null,
            "grid_column": null,
            "grid_gap": null,
            "grid_row": null,
            "grid_template_areas": null,
            "grid_template_columns": null,
            "grid_template_rows": null,
            "height": null,
            "justify_content": null,
            "justify_items": null,
            "left": null,
            "margin": null,
            "max_height": null,
            "max_width": null,
            "min_height": null,
            "min_width": null,
            "object_fit": null,
            "object_position": null,
            "order": null,
            "overflow": null,
            "overflow_x": null,
            "overflow_y": null,
            "padding": null,
            "right": null,
            "top": null,
            "visibility": null,
            "width": null
          }
        }
      }
    }
  },
  "nbformat": 4,
  "nbformat_minor": 0
}
